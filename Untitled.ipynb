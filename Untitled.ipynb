{
 "cells": [
  {
   "cell_type": "code",
   "execution_count": 1,
   "id": "f273b970-af7c-4053-a883-b21920430566",
   "metadata": {},
   "outputs": [
    {
     "data": {
      "text/html": [
       "<style> .cell-output-ipywidget-background { background-color: transparent !important; } </style>"
      ],
      "text/plain": [
       "<IPython.core.display.HTML object>"
      ]
     },
     "metadata": {},
     "output_type": "display_data"
    },
    {
     "data": {
      "application/vnd.jupyter.widget-view+json": {
       "model_id": "560f828ece7a4e908a1a94810d54676c",
       "version_major": 2,
       "version_minor": 0
      },
      "text/plain": [
       "Renderer(camera=PerspectiveCamera(children=(DirectionalLight(color='white', intensity=0.5, position=(-40.0, 5.…"
      ]
     },
     "execution_count": 1,
     "metadata": {},
     "output_type": "execute_result"
    }
   ],
   "source": [
    "from badcad import *\n",
    "plus = square(3, 1, center=True) + square(1, 3, center=True)\n",
    "p_lil = plus.offset(-0.4, 'round')\n",
    "p_big = plus.offset(+0.4, 'round')\n",
    "p_big.extrude_to(p_lil, 1)"
   ]
  },
  {
   "cell_type": "code",
   "execution_count": 2,
   "id": "5388c749-71d1-46b4-8627-1b8b72fe0c7a",
   "metadata": {},
   "outputs": [
    {
     "data": {
      "text/html": [
       "<style> .cell-output-ipywidget-background { background-color: transparent !important; } </style>"
      ],
      "text/plain": [
       "<IPython.core.display.HTML object>"
      ]
     },
     "metadata": {},
     "output_type": "display_data"
    },
    {
     "data": {
      "application/vnd.jupyter.widget-view+json": {
       "model_id": "c0cf98c212e7411583ff0f0252f0a695",
       "version_major": 2,
       "version_minor": 0
      },
      "text/plain": [
       "Renderer(camera=PerspectiveCamera(children=(DirectionalLight(color='white', intensity=0.5, position=(-40.0, 5.…"
      ]
     },
     "execution_count": 2,
     "metadata": {},
     "output_type": "execute_result"
    }
   ],
   "source": [
    "bolt = threads(d=8, h=16, pitch=1) \n",
    "bolt += circle(r=5, fn=6).offset(1,'round').extrude(4).move(0,0,15)\n",
    "bolt.align(x=0,y=0,z=0).rotate(x=-90)"
   ]
  }
 ],
 "metadata": {
  "kernelspec": {
   "display_name": "Python 3 (ipykernel)",
   "language": "python",
   "name": "python3"
  },
  "language_info": {
   "codemirror_mode": {
    "name": "ipython",
    "version": 3
   },
   "file_extension": ".py",
   "mimetype": "text/x-python",
   "name": "python",
   "nbconvert_exporter": "python",
   "pygments_lexer": "ipython3",
   "version": "3.13.1"
  }
 },
 "nbformat": 4,
 "nbformat_minor": 5
}
