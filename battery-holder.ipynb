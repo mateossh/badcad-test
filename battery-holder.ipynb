{
 "cells": [
  {
   "cell_type": "code",
   "execution_count": 20,
   "metadata": {},
   "outputs": [
    {
     "data": {
      "text/html": [
       "<style> .cell-output-ipywidget-background { background-color: transparent !important; } </style>"
      ],
      "text/plain": [
       "<IPython.core.display.HTML object>"
      ]
     },
     "metadata": {},
     "output_type": "display_data"
    },
    {
     "data": {
      "application/vnd.jupyter.widget-view+json": {
       "model_id": "1e97171dbdc84e7ba56d38c3d351a490",
       "version_major": 2,
       "version_minor": 0
      },
      "text/plain": [
       "Renderer(camera=PerspectiveCamera(children=(DirectionalLight(color='white', intensity=0.5, position=(-40.0, 5.…"
      ]
     },
     "execution_count": 20,
     "metadata": {},
     "output_type": "execute_result"
    }
   ],
   "source": [
    "from badcad import *\n",
    "\n",
    "OUTER_DIMENSIONS = (18.40, 33.00)\n",
    "BATTERY_CUTOUT_DIMENSIONS = (13.00, 31.80)\n",
    "\n",
    "x = (OUTER_DIMENSIONS[0] - BATTERY_CUTOUT_DIMENSIONS[0]) / 2\n",
    "y = (OUTER_DIMENSIONS[1] - BATTERY_CUTOUT_DIMENSIONS[1]) / 2\n",
    "\n",
    "outer = square(OUTER_DIMENSIONS[0], OUTER_DIMENSIONS[1])\n",
    "battery = square(BATTERY_CUTOUT_DIMENSIONS[0], BATTERY_CUTOUT_DIMENSIONS[1]).move(x, y)\n",
    "\n",
    "shell = outer - battery\n",
    "\n",
    "shell"
   ]
  },
  {
   "cell_type": "code",
   "execution_count": 16,
   "metadata": {},
   "outputs": [
    {
     "data": {
      "text/html": [
       "<style> .cell-output-ipywidget-background { background-color: transparent !important; } </style>"
      ],
      "text/plain": [
       "<IPython.core.display.HTML object>"
      ]
     },
     "metadata": {},
     "output_type": "display_data"
    },
    {
     "data": {
      "application/vnd.jupyter.widget-view+json": {
       "model_id": "4c1dae6bbc0b4799b68aca831a88a97a",
       "version_major": 2,
       "version_minor": 0
      },
      "text/plain": [
       "Renderer(camera=PerspectiveCamera(children=(DirectionalLight(color='white', intensity=0.5, position=(-40.0, 5.…"
      ]
     },
     "execution_count": 16,
     "metadata": {},
     "output_type": "execute_result"
    }
   ],
   "source": [
    "GOLDPIN_DIAMETER = 1.2\n",
    "GOLDPIN_CENTER_DISTANCE = 2.54\n",
    "\n",
    "def goldpin(n: int, diameter: float, distance: float):\n",
    "  pins = circle(diameter)\n",
    "\n",
    "  for i in range(1, n):\n",
    "    pins += circle(diameter).move(y=distance * i)\n",
    "\n",
    "  return pins\n",
    "\n",
    "test = goldpin(12, GOLDPIN_DIAMETER, GOLDPIN_CENTER_DISTANCE)\n",
    "test"
   ]
  },
  {
   "cell_type": "code",
   "execution_count": null,
   "metadata": {},
   "outputs": [],
   "source": []
  },
  {
   "cell_type": "code",
   "execution_count": 44,
   "metadata": {},
   "outputs": [
    {
     "name": "stderr",
     "output_type": "stream",
     "text": [
      "/Users/matt/Code/personal/badcadtest/.venv/lib/python3.13/site-packages/badcad/normals.py:8: RuntimeWarning: invalid value encountered in divide\n",
      "  tnormals /= np.linalg.norm(tnormals, axis=-1, keepdims=True)\n"
     ]
    },
    {
     "data": {
      "text/html": [
       "<style> .cell-output-ipywidget-background { background-color: transparent !important; } </style>"
      ],
      "text/plain": [
       "<IPython.core.display.HTML object>"
      ]
     },
     "metadata": {},
     "output_type": "display_data"
    },
    {
     "data": {
      "application/vnd.jupyter.widget-view+json": {
       "model_id": "9e6edccfd1b04d3d97d9550da6c6944e",
       "version_major": 2,
       "version_minor": 0
      },
      "text/plain": [
       "Renderer(camera=PerspectiveCamera(children=(DirectionalLight(color='white', intensity=0.5, position=(-40.0, 5.…"
      ]
     },
     "execution_count": 44,
     "metadata": {},
     "output_type": "execute_result"
    }
   ],
   "source": [
    "CENTER_EDGE_DISTANCE = 1.26\n",
    "\n",
    "\n",
    "left = goldpin(12, GOLDPIN_DIAMETER, GOLDPIN_CENTER_DISTANCE).move(CENTER_EDGE_DISTANCE, CENTER_EDGE_DISTANCE)\n",
    "right = goldpin(12, GOLDPIN_DIAMETER, GOLDPIN_CENTER_DISTANCE).move(OUTER_DIMENSIONS[0] - CENTER_EDGE_DISTANCE, CENTER_EDGE_DISTANCE)\n",
    "\n",
    "model_sketch = shell - left - right\n",
    "\n",
    "model = model_sketch.extrude(3)\n",
    "model"
   ]
  },
  {
   "cell_type": "code",
   "execution_count": 45,
   "metadata": {},
   "outputs": [
    {
     "data": {
      "text/html": [
       "<style> .cell-output-ipywidget-background { background-color: transparent !important; } </style>"
      ],
      "text/plain": [
       "<IPython.core.display.HTML object>"
      ]
     },
     "metadata": {},
     "output_type": "display_data"
    },
    {
     "data": {
      "application/vnd.jupyter.widget-view+json": {
       "model_id": "3ff617aa45d344ddaa4a7ee6c21ec172",
       "version_major": 2,
       "version_minor": 0
      },
      "text/plain": [
       "Renderer(camera=PerspectiveCamera(children=(DirectionalLight(color='white', intensity=0.5, position=(-40.0, 5.…"
      ]
     },
     "execution_count": 45,
     "metadata": {},
     "output_type": "execute_result"
    }
   ],
   "source": [
    "model.stl('battery-holder.stl')"
   ]
  }
 ],
 "metadata": {
  "kernelspec": {
   "display_name": ".venv",
   "language": "python",
   "name": "python3"
  },
  "language_info": {
   "codemirror_mode": {
    "name": "ipython",
    "version": 3
   },
   "file_extension": ".py",
   "mimetype": "text/x-python",
   "name": "python",
   "nbconvert_exporter": "python",
   "pygments_lexer": "ipython3",
   "version": "3.13.1"
  }
 },
 "nbformat": 4,
 "nbformat_minor": 2
}
