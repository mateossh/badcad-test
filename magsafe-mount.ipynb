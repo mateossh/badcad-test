{
 "cells": [
  {
   "cell_type": "code",
   "execution_count": 66,
   "metadata": {},
   "outputs": [
    {
     "data": {
      "text/html": [
       "<style> .cell-output-ipywidget-background { background-color: transparent !important; } </style>"
      ],
      "text/plain": [
       "<IPython.core.display.HTML object>"
      ]
     },
     "metadata": {},
     "output_type": "display_data"
    },
    {
     "data": {
      "application/vnd.jupyter.widget-view+json": {
       "model_id": "7ea56e07ad7742e7a33e962a077af371",
       "version_major": 2,
       "version_minor": 0
      },
      "text/plain": [
       "Renderer(camera=PerspectiveCamera(children=(DirectionalLight(color='white', intensity=0.5, position=(-40.0, 5.…"
      ]
     },
     "execution_count": 66,
     "metadata": {},
     "output_type": "execute_result"
    }
   ],
   "source": [
    "from badcad import *\n",
    "\n",
    "outer = circle(d=55.60) # 54.10\n",
    "inner = circle(d=46.00) # 46.00\n",
    "\n",
    "ringMagnets = outer\n",
    "\n",
    "# 6 x 19.31\n",
    "clockingMagnet = square(7, 21.6).move(x=-3.5, y=-49)\n",
    "\n",
    "\n",
    "\n",
    "magSafeSketch = ringMagnets + clockingMagnet\n",
    "magSafeSketch\n"
   ]
  },
  {
   "cell_type": "code",
   "execution_count": 67,
   "metadata": {},
   "outputs": [
    {
     "data": {
      "text/html": [
       "<style> .cell-output-ipywidget-background { background-color: transparent !important; } </style>"
      ],
      "text/plain": [
       "<IPython.core.display.HTML object>"
      ]
     },
     "metadata": {},
     "output_type": "display_data"
    },
    {
     "data": {
      "application/vnd.jupyter.widget-view+json": {
       "model_id": "06a7ec3f4f034b89a0aab5a866da7916",
       "version_major": 2,
       "version_minor": 0
      },
      "text/plain": [
       "Renderer(camera=PerspectiveCamera(children=(DirectionalLight(color='white', intensity=0.5, position=(-40.0, 5.…"
      ]
     },
     "execution_count": 67,
     "metadata": {},
     "output_type": "execute_result"
    }
   ],
   "source": [
    "bodySketch = square(y=90, x=78, center=True).move(y=-10.6)\n",
    "body = bodySketch.extrude(20)\n",
    "\n",
    "magSafe = magSafeSketch.extrude(1)\n",
    "\n",
    "model = body - magSafe\n",
    "model\n",
    "\n",
    "model.stl('tripod-mount.stl')\n"
   ]
  }
 ],
 "metadata": {
  "kernelspec": {
   "display_name": ".venv",
   "language": "python",
   "name": "python3"
  },
  "language_info": {
   "codemirror_mode": {
    "name": "ipython",
    "version": 3
   },
   "file_extension": ".py",
   "mimetype": "text/x-python",
   "name": "python",
   "nbconvert_exporter": "python",
   "pygments_lexer": "ipython3",
   "version": "3.13.1"
  }
 },
 "nbformat": 4,
 "nbformat_minor": 2
}
